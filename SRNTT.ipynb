{
  "nbformat": 4,
  "nbformat_minor": 0,
  "metadata": {
    "colab": {
      "name": "SRNTT.ipynb",
      "provenance": [],
      "collapsed_sections": [],
      "machine_shape": "hm",
      "authorship_tag": "ABX9TyP/j5z3tkRxgVcOshROKWOZ",
      "include_colab_link": true
    },
    "kernelspec": {
      "name": "python3",
      "display_name": "Python 3"
    },
    "language_info": {
      "name": "python"
    },
    "accelerator": "GPU"
  },
  "cells": [
    {
      "cell_type": "markdown",
      "metadata": {
        "id": "view-in-github",
        "colab_type": "text"
      },
      "source": [
        "<a href=\"https://colab.research.google.com/github/gsaveri/SRNTT/blob/master/SRNTT.ipynb\" target=\"_parent\"><img src=\"https://colab.research.google.com/assets/colab-badge.svg\" alt=\"Open In Colab\"/></a>"
      ]
    },
    {
      "cell_type": "code",
      "metadata": {
        "id": "723qRx2zcztM"
      },
      "source": [
        "%tensorflow_version 1.x\n",
        "import os\n",
        "from google.colab import files"
      ],
      "execution_count": null,
      "outputs": []
    },
    {
      "cell_type": "code",
      "metadata": {
        "id": "OIew7DxS6zlw"
      },
      "source": [
        "#Check GPU\n",
        "!nvidia-smi"
      ],
      "execution_count": null,
      "outputs": []
    },
    {
      "cell_type": "code",
      "metadata": {
        "id": "wjk-7LsPlY_a"
      },
      "source": [
        "#Need a specific version of scipy\n",
        "!pip install imagaug==0.2.6\n",
        "!pip install scipy==1.2.0"
      ],
      "execution_count": null,
      "outputs": []
    },
    {
      "cell_type": "code",
      "metadata": {
        "id": "GpvRkISpf7o8"
      },
      "source": [
        "#clone the repository\n",
        "!git clone https://github.com/gsaveri/SRNTT.git"
      ],
      "execution_count": null,
      "outputs": []
    },
    {
      "cell_type": "code",
      "metadata": {
        "id": "A37gQuMmB6Rh"
      },
      "source": [
        "%cd /content/SRNTT"
      ],
      "execution_count": null,
      "outputs": []
    },
    {
      "cell_type": "markdown",
      "metadata": {
        "id": "Btq5rPWI4po4"
      },
      "source": [
        "# Train model\n",
        "\n",
        "This will take a lot of disk space (300+ GB), it will not work in colab. "
      ]
    },
    {
      "cell_type": "code",
      "metadata": {
        "id": "e1nIF8RHEcKt"
      },
      "source": [
        "# The name of dataset: CUFED5, DIV2K, or CUFED\n",
        "training_set='CUFED'\n",
        "\n",
        "# # download training set\n",
        "!python download_dataset.py --dataset_name \"{training_set}\""
      ],
      "execution_count": null,
      "outputs": []
    },
    {
      "cell_type": "code",
      "metadata": {
        "id": "D2JzlahdSuc8"
      },
      "source": [
        "!python offline_patchMatch_textureSwap.py --data_folder data/train/\"{training_set}\""
      ],
      "execution_count": null,
      "outputs": []
    },
    {
      "cell_type": "code",
      "metadata": {
        "id": "mCfPXxUAFQTa"
      },
      "source": [
        "print(training_set)\n",
        "# # train a new model\n",
        "!python main.py \\\n",
        "    --is_train True \\\n",
        "    --input_dir data/train/\"{training_set}\"/input \\\n",
        "    --ref_dir data/train/\"{training_set}\"/ref \\\n",
        "    --map_dir data/train/\"{training_set}\"/map_321 \\\n",
        "    --use_pretrained_model False \\\n",
        "    --num_init_epochs 2 \\\n",
        "    --num_epochs 2 \\\n",
        "    --save_dir demo_training_srntt"
      ],
      "execution_count": null,
      "outputs": []
    },
    {
      "cell_type": "markdown",
      "metadata": {
        "id": "0xqDI3n8c2jw"
      },
      "source": [
        "# Run model"
      ]
    },
    {
      "cell_type": "code",
      "metadata": {
        "id": "uhOWeHpQdb3Q"
      },
      "source": [
        "# python main.py \n",
        "#     --is_train False \n",
        "#     --input_dir             path/to/input/image/file\n",
        "#     --ref_dir               path/to/ref/image/file\n",
        "#     --result_dir            path/to/result/folder\n",
        "#     --ref_scale             default 1, expected_ref_scale divided by original_ref_scale\n",
        "#     --is_original_image     default True, whether input is original \n",
        "#     --use_init_model_only   default False, whether use init model, trained with reconstruction loss only\n",
        "#     --use_weight_map        defualt False, whether use weighted model, trained with the weight map.\n",
        "#     --save_dir              path/to/a/specified/model if it exists, otherwise ignor this parameter"
      ],
      "execution_count": null,
      "outputs": []
    },
    {
      "cell_type": "code",
      "metadata": {
        "id": "dojoOtC65So3"
      },
      "source": [
        "#Set result output folder\n",
        "result_dir = 'results/output'\n",
        "ref_scale = 1"
      ],
      "execution_count": null,
      "outputs": []
    },
    {
      "cell_type": "code",
      "metadata": {
        "id": "XLlikmqW2mA-"
      },
      "source": [
        "# Load an input image\n",
        "input = files.upload()\n",
        "input = list(input.keys())[0]"
      ],
      "execution_count": null,
      "outputs": []
    },
    {
      "cell_type": "code",
      "metadata": {
        "id": "xoIGXL3o6W7Y"
      },
      "source": [
        "#Load a reference image\n",
        "ref = files.upload()\n",
        "ref = list(ref.keys())[0]"
      ],
      "execution_count": null,
      "outputs": []
    },
    {
      "cell_type": "code",
      "metadata": {
        "id": "MS5ETXTEdoIA"
      },
      "source": [
        "print(input)\n",
        "print(ref_dir)\n",
        "print(result_dir)\n",
        "\n",
        "!python main.py --is_train False --input_dir \"{input}\" \\\n",
        "    --ref_dir \"{ref}\" \\\n",
        "    --result_dir \"{result_dir}\" \\\n",
        "    --ref_scale 1 \\\n",
        "    --use_init_model_only False \\\n",
        "    --is_original_image True \\"
      ],
      "execution_count": null,
      "outputs": []
    }
  ]
}